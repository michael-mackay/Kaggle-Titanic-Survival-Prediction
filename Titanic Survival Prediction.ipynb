{
 "cells": [
  {
   "cell_type": "code",
   "execution_count": 2,
   "metadata": {},
   "outputs": [
    {
     "name": "stdout",
     "output_type": "stream",
     "text": [
      "   PassengerId  Survived  Pclass  \\\n",
      "0            1         0       3   \n",
      "1            2         1       1   \n",
      "2            3         1       3   \n",
      "3            4         1       1   \n",
      "4            5         0       3   \n",
      "\n",
      "                                                Name     Sex   Age  SibSp  \\\n",
      "0                            Braund, Mr. Owen Harris    male  22.0      1   \n",
      "1  Cumings, Mrs. John Bradley (Florence Briggs Th...  female  38.0      1   \n",
      "2                             Heikkinen, Miss. Laina  female  26.0      0   \n",
      "3       Futrelle, Mrs. Jacques Heath (Lily May Peel)  female  35.0      1   \n",
      "4                           Allen, Mr. William Henry    male  35.0      0   \n",
      "\n",
      "   Parch            Ticket     Fare Cabin Embarked  \n",
      "0      0         A/5 21171   7.2500   NaN        S  \n",
      "1      0          PC 17599  71.2833   C85        C  \n",
      "2      0  STON/O2. 3101282   7.9250   NaN        S  \n",
      "3      0            113803  53.1000  C123        S  \n",
      "4      0            373450   8.0500   NaN        S  \n",
      "   PassengerId  Pclass                                          Name     Sex  \\\n",
      "0          892       3                              Kelly, Mr. James    male   \n",
      "1          893       3              Wilkes, Mrs. James (Ellen Needs)  female   \n",
      "2          894       2                     Myles, Mr. Thomas Francis    male   \n",
      "3          895       3                              Wirz, Mr. Albert    male   \n",
      "4          896       3  Hirvonen, Mrs. Alexander (Helga E Lindqvist)  female   \n",
      "\n",
      "    Age  SibSp  Parch   Ticket     Fare Cabin Embarked  \n",
      "0  34.5      0      0   330911   7.8292   NaN        Q  \n",
      "1  47.0      1      0   363272   7.0000   NaN        S  \n",
      "2  62.0      0      0   240276   9.6875   NaN        Q  \n",
      "3  27.0      0      0   315154   8.6625   NaN        S  \n",
      "4  22.0      1      1  3101298  12.2875   NaN        S  \n"
     ]
    }
   ],
   "source": [
    "import pandas as pd\n",
    "%matplotlib inline\n",
    "import matplotlib.pyplot as plt\n",
    "import numpy as np\n",
    "\n",
    "titanic = pd.read_csv('train.csv')\n",
    "titanic_test = pd.read_csv('test.csv')\n",
    "\n",
    "print(titanic.head())\n",
    "print(titanic_test.head())"
   ]
  },
  {
   "cell_type": "code",
   "execution_count": 4,
   "metadata": {},
   "outputs": [
    {
     "name": "stdout",
     "output_type": "stream",
     "text": [
      "0    549\n",
      "1    342\n",
      "Name: Survived, dtype: int64\n"
     ]
    }
   ],
   "source": [
    "print(titanic['Survived'].value_counts())"
   ]
  },
  {
   "cell_type": "code",
   "execution_count": 5,
   "metadata": {},
   "outputs": [
    {
     "name": "stdout",
     "output_type": "stream",
     "text": [
      "\n",
      "Total:\n",
      "        PassengerId    Survived      Pclass         Age       SibSp  \\\n",
      "count   891.000000  891.000000  891.000000  714.000000  891.000000   \n",
      "mean    446.000000    0.383838    2.308642   29.699118    0.523008   \n",
      "std     257.353842    0.486592    0.836071   14.526497    1.102743   \n",
      "min       1.000000    0.000000    1.000000    0.420000    0.000000   \n",
      "25%     223.500000    0.000000    2.000000   20.125000    0.000000   \n",
      "50%     446.000000    0.000000    3.000000   28.000000    0.000000   \n",
      "75%     668.500000    1.000000    3.000000   38.000000    1.000000   \n",
      "max     891.000000    1.000000    3.000000   80.000000    8.000000   \n",
      "\n",
      "            Parch        Fare  \n",
      "count  891.000000  891.000000  \n",
      "mean     0.381594   32.204208  \n",
      "std      0.806057   49.693429  \n",
      "min      0.000000    0.000000  \n",
      "25%      0.000000    7.910400  \n",
      "50%      0.000000   14.454200  \n",
      "75%      0.000000   31.000000  \n",
      "max      6.000000  512.329200  \n",
      "Survivors:\n",
      "        PassengerId  Survived      Pclass         Age       SibSp       Parch  \\\n",
      "count   342.000000     342.0  342.000000  290.000000  342.000000  342.000000   \n",
      "mean    444.368421       1.0    1.950292   28.343690    0.473684    0.464912   \n",
      "std     252.358840       0.0    0.863321   14.950952    0.708688    0.771712   \n",
      "min       2.000000       1.0    1.000000    0.420000    0.000000    0.000000   \n",
      "25%     250.750000       1.0    1.000000   19.000000    0.000000    0.000000   \n",
      "50%     439.500000       1.0    2.000000   28.000000    0.000000    0.000000   \n",
      "75%     651.500000       1.0    3.000000   36.000000    1.000000    1.000000   \n",
      "max     890.000000       1.0    3.000000   80.000000    4.000000    5.000000   \n",
      "\n",
      "             Fare  \n",
      "count  342.000000  \n",
      "mean    48.395408  \n",
      "std     66.596998  \n",
      "min      0.000000  \n",
      "25%     12.475000  \n",
      "50%     26.000000  \n",
      "75%     57.000000  \n",
      "max    512.329200  \n",
      "\n",
      "Deceased:\n",
      "        PassengerId  Survived      Pclass         Age       SibSp       Parch  \\\n",
      "count   549.000000     549.0  549.000000  424.000000  549.000000  549.000000   \n",
      "mean    447.016393       0.0    2.531876   30.626179    0.553734    0.329690   \n",
      "std     260.640469       0.0    0.735805   14.172110    1.288399    0.823166   \n",
      "min       1.000000       0.0    1.000000    1.000000    0.000000    0.000000   \n",
      "25%     211.000000       0.0    2.000000   21.000000    0.000000    0.000000   \n",
      "50%     455.000000       0.0    3.000000   28.000000    0.000000    0.000000   \n",
      "75%     675.000000       0.0    3.000000   39.000000    1.000000    0.000000   \n",
      "max     891.000000       0.0    3.000000   74.000000    8.000000    6.000000   \n",
      "\n",
      "             Fare  \n",
      "count  549.000000  \n",
      "mean    22.117887  \n",
      "std     31.388207  \n",
      "min      0.000000  \n",
      "25%      7.854200  \n",
      "50%     10.500000  \n",
      "75%     26.000000  \n",
      "max    263.000000  \n"
     ]
    }
   ],
   "source": [
    "survivors = titanic[titanic['Survived'] == 1]\n",
    "deceased = titanic[titanic['Survived'] == 0]\n",
    "\n",
    "print('\\nTotal:\\n',titanic.describe())\n",
    "print('Survivors:\\n',survivors.describe())\n",
    "print('\\nDeceased:\\n',deceased.describe())"
   ]
  },
  {
   "cell_type": "code",
   "execution_count": 6,
   "metadata": {},
   "outputs": [
    {
     "data": {
      "text/plain": [
       "array([[<matplotlib.axes._subplots.AxesSubplot object at 0x000001921E336E48>,\n",
       "        <matplotlib.axes._subplots.AxesSubplot object at 0x000001921E490AC8>,\n",
       "        <matplotlib.axes._subplots.AxesSubplot object at 0x000001921E4E5DD8>],\n",
       "       [<matplotlib.axes._subplots.AxesSubplot object at 0x000001921E56D128>,\n",
       "        <matplotlib.axes._subplots.AxesSubplot object at 0x000001921E5A3438>,\n",
       "        <matplotlib.axes._subplots.AxesSubplot object at 0x000001921E5A3470>],\n",
       "       [<matplotlib.axes._subplots.AxesSubplot object at 0x000001921E67BB38>,\n",
       "        <matplotlib.axes._subplots.AxesSubplot object at 0x000001921E6B8F28>,\n",
       "        <matplotlib.axes._subplots.AxesSubplot object at 0x000001921E7474A8>]], dtype=object)"
      ]
     },
     "execution_count": 6,
     "metadata": {},
     "output_type": "execute_result"
    },
    {
     "data": {
      "image/png": "[encoded data removed]",
      "text/plain": [
       "<matplotlib.figure.Figure at 0x1921e351ba8>"
      ]
     },
     "metadata": {},
     "output_type": "display_data"
    }
   ],
   "source": [
    "survivors.hist()"
   ]
  },
  {
   "cell_type": "code",
   "execution_count": 7,
   "metadata": {},
   "outputs": [
    {
     "data": {
      "text/plain": [
       "array([[<matplotlib.axes._subplots.AxesSubplot object at 0x000001921E6FD6A0>,\n",
       "        <matplotlib.axes._subplots.AxesSubplot object at 0x000001921EB0FB70>,\n",
       "        <matplotlib.axes._subplots.AxesSubplot object at 0x000001921EB1EC50>],\n",
       "       [<matplotlib.axes._subplots.AxesSubplot object at 0x000001921EBD4B38>,\n",
       "        <matplotlib.axes._subplots.AxesSubplot object at 0x000001921EC38240>,\n",
       "        <matplotlib.axes._subplots.AxesSubplot object at 0x000001921EC38278>],\n",
       "       [<matplotlib.axes._subplots.AxesSubplot object at 0x000001921ED03C18>,\n",
       "        <matplotlib.axes._subplots.AxesSubplot object at 0x000001921ED7E8D0>,\n",
       "        <matplotlib.axes._subplots.AxesSubplot object at 0x000001921EDE6240>]], dtype=object)"
      ]
     },
     "execution_count": 7,
     "metadata": {},
     "output_type": "execute_result"
    },
    {
     "data": {
      "image/png": "[encoded data removed]",
      "text/plain": [
       "<matplotlib.figure.Figure at 0x1921eacceb8>"
      ]
     },
     "metadata": {},
     "output_type": "display_data"
    }
   ],
   "source": [
    "deceased.hist()"
   ]
  },
  {
   "cell_type": "code",
   "execution_count": 8,
   "metadata": {
    "collapsed": true
   },
   "outputs": [],
   "source": [
    "titanic[\"Age\"] = titanic['Age'].fillna(titanic['Age'].median())\n",
    "\n",
    "titanic.loc[titanic[\"Sex\"] == \"male\", \"Sex\"] = 0\n",
    "titanic.loc[titanic['Sex'] == 'female', 'Sex'] = 1"
   ]
  },
  {
   "cell_type": "code",
   "execution_count": 9,
   "metadata": {},
   "outputs": [
    {
     "name": "stdout",
     "output_type": "stream",
     "text": [
      "S    644\n",
      "C    168\n",
      "Q     77\n",
      "Name: Embarked, dtype: int64\n"
     ]
    }
   ],
   "source": [
    "print(titanic['Embarked'].value_counts())\n",
    "titanic[\"Embarked\"] = titanic[\"Embarked\"].fillna(\"S\")\n",
    "\n",
    "titanic.loc[titanic[\"Embarked\"] == \"S\", \"Embarked\"] = 1\n",
    "titanic.loc[titanic[\"Embarked\"] == \"C\", \"Embarked\"] = 2\n",
    "titanic.loc[titanic[\"Embarked\"] == \"Q\", \"Embarked\"] = 3"
   ]
  },
  {
   "cell_type": "code",
   "execution_count": 23,
   "metadata": {},
   "outputs": [],
   "source": [
    "from sklearn.linear_model import LinearRegression\n",
    "from sklearn.cross_validation import KFold\n",
    "\n",
    "predictors = [\"Pclass\", \"Sex\", \"Age\", \"SibSp\", \"Parch\", \"Fare\", \"Embarked\"]\n",
    "\n",
    "lr = LinearRegression()\n",
    "kf = KFold(titanic.shape[0], n_folds=3, random_state=1)\n",
    "\n",
    "predictions = []\n",
    "for train, test in kf:\n",
    "    train_predictors = (titanic[predictors].iloc[train,:])\n",
    "    train_target = titanic[\"Survived\"].iloc[train]\n",
    "    lr.fit(train_predictors, train_target)\n",
    "    test_predictions = lr.predict(titanic[predictors].iloc[test,:])\n",
    "    predictions.append(test_predictions)\n"
   ]
  },
  {
   "cell_type": "code",
   "execution_count": 24,
   "metadata": {},
   "outputs": [
    {
     "name": "stdout",
     "output_type": "stream",
     "text": [
      "0.7833894500561167\n"
     ]
    }
   ],
   "source": [
    "predictions = np.concatenate(predictions, axis=0)\n",
    "\n",
    "predictions[predictions > .5] = 1\n",
    "predictions[predictions <=.5] = 0\n",
    "\n",
    "accuracy = len(titanic[titanic['Survived'] == predictions])/len(titanic)\n",
    "print(accuracy)"
   ]
  },
  {
   "cell_type": "code",
   "execution_count": 26,
   "metadata": {},
   "outputs": [
    {
     "name": "stdout",
     "output_type": "stream",
     "text": [
      "0.794612794613\n"
     ]
    }
   ],
   "source": [
    "from sklearn import cross_validation\n",
    "from sklearn.linear_model import LogisticRegression\n",
    "\n",
    "alg = LogisticRegression(random_state=1)\n",
    "scores = cross_validation.cross_val_score(alg, titanic[predictors], titanic[\"Survived\"], cv=3)\n",
    "print(scores.mean())"
   ]
  },
  {
   "cell_type": "code",
   "execution_count": 27,
   "metadata": {
    "collapsed": true
   },
   "outputs": [],
   "source": [
    "titanic_test[\"Age\"] = titanic_test[\"Age\"].fillna(titanic[\"Age\"].median())\n",
    "titanic_test[\"Fare\"] = titanic_test[\"Fare\"].fillna(titanic_test[\"Fare\"].median())\n",
    "\n",
    "titanic_test.loc[titanic_test[\"Sex\"] == \"male\", \"Sex\"] = 0 \n",
    "titanic_test.loc[titanic_test[\"Sex\"] == \"female\", \"Sex\"] = 1\n",
    "titanic_test[\"Embarked\"] = titanic_test[\"Embarked\"].fillna(\"S\")\n",
    "\n",
    "titanic_test.loc[titanic_test[\"Embarked\"] == \"S\", \"Embarked\"] = 0\n",
    "titanic_test.loc[titanic_test[\"Embarked\"] == \"C\", \"Embarked\"] = 1\n",
    "titanic_test.loc[titanic_test[\"Embarked\"] == \"Q\", \"Embarked\"] = 2"
   ]
  },
  {
   "cell_type": "code",
   "execution_count": 30,
   "metadata": {},
   "outputs": [],
   "source": [
    "alg = LogisticRegression(random_state=1)\n",
    "\n",
    "alg.fit(titanic[predictors], titanic[\"Survived\"])\n",
    "\n",
    "predictions = alg.predict(titanic_test[predictors])\n",
    "\n",
    "submission = pd.DataFrame({\n",
    "        \"PassengerId\": titanic_test[\"PassengerId\"],\n",
    "        \"Survived\": predictions\n",
    "    })\n",
    "\n",
    "submission.to_csv(\"kaggle.csv\", index=False)"
   ]
  },
  {
   "cell_type": "code",
   "execution_count": 44,
   "metadata": {},
   "outputs": [
    {
     "name": "stdout",
     "output_type": "stream",
     "text": [
      "0.824915824916\n"
     ]
    }
   ],
   "source": [
    "from sklearn.ensemble import RandomForestClassifier\n",
    "\n",
    "predictors = [\"Pclass\", \"Sex\", \"Age\", \"SibSp\", \"Parch\", \"Fare\", \"Embarked\"]\n",
    "\n",
    "alg = RandomForestClassifier(random_state=1, n_estimators=50, min_samples_split=5, min_samples_leaf=2)\n",
    "\n",
    "kf = cross_validation.KFold(titanic.shape[0], n_folds=3, random_state=1)\n",
    "scores = cross_validation.cross_val_score(alg, titanic[predictors], titanic[\"Survived\"], cv=kf)\n",
    "\n",
    "print(np.mean(scores))"
   ]
  },
  {
   "cell_type": "code",
   "execution_count": 45,
   "metadata": {
    "collapsed": true
   },
   "outputs": [],
   "source": [
    "titanic[\"FamilySize\"] = titanic[\"SibSp\"] + titanic[\"Parch\"]\n",
    "titanic[\"NameLength\"] = titanic[\"Name\"].apply(lambda x: len(x))"
   ]
  },
  {
   "cell_type": "code",
   "execution_count": 48,
   "metadata": {},
   "outputs": [
    {
     "name": "stdout",
     "output_type": "stream",
     "text": [
      "Mr          517\n",
      "Miss        182\n",
      "Mrs         125\n",
      "Master       40\n",
      "Dr            7\n",
      "Rev           6\n",
      "Major         2\n",
      "Col           2\n",
      "Mlle          2\n",
      "Ms            1\n",
      "Sir           1\n",
      "Mme           1\n",
      "Capt          1\n",
      "Don           1\n",
      "Countess      1\n",
      "Jonkheer      1\n",
      "Lady          1\n",
      "Name: Name, dtype: int64\n",
      "1     517\n",
      "2     183\n",
      "3     125\n",
      "4      40\n",
      "5       7\n",
      "6       6\n",
      "7       5\n",
      "10      3\n",
      "8       3\n",
      "9       2\n",
      "Name: Name, dtype: int64\n"
     ]
    }
   ],
   "source": [
    "import re\n",
    "\n",
    "# A function to get the title from a name\n",
    "def get_title(name):\n",
    "    # Use a regular expression to search for a title  \n",
    "    # Titles always consist of capital and lowercase letters, and end with a period\n",
    "    title_search = re.search(' ([A-Za-z]+)\\.', name)\n",
    "    # If the title exists, extract and return it\n",
    "    if title_search:\n",
    "        return title_search.group(1)\n",
    "    return \"\"\n",
    "\n",
    "# Get all of the titles, and print how often each one occurs\n",
    "titles = titanic[\"Name\"].apply(get_title)\n",
    "print(pd.value_counts(titles))\n",
    "\n",
    "# Map each title to an integer  \n",
    "# Some titles are very rare, so they're compressed into the same codes as other titles\n",
    "title_mapping = {\"Mr\": 1, \"Miss\": 2, \"Mrs\": 3, \"Master\": 4, \"Dr\": 5, \"Rev\": 6, \"Major\": 7, \"Col\": 7, \"Mlle\": 8, \"Mme\": 8, \"Don\": 9, \"Lady\": 10, \"Countess\": 10, \"Jonkheer\": 10, \"Sir\": 9, \"Capt\": 7, \"Ms\": 2}\n",
    "for k,v in title_mapping.items():\n",
    "    titles[titles == k] = v\n",
    "\n",
    "# Verify that we converted everything\n",
    "print(pd.value_counts(titles))\n",
    "\n",
    "# Add in the title column\n",
    "titanic[\"Title\"] = titles"
   ]
  },
  {
   "cell_type": "code",
   "execution_count": 50,
   "metadata": {
    "scrolled": false
   },
   "outputs": [
    {
     "name": "stdout",
     "output_type": "stream",
     "text": [
      "-1      800\n",
      " 14       8\n",
      " 149      7\n",
      " 63       6\n",
      " 50       6\n",
      " 59       6\n",
      " 17       5\n",
      " 384      4\n",
      " 27       4\n",
      " 25       4\n",
      " 162      4\n",
      " 8        4\n",
      " 84       4\n",
      " 340      4\n",
      " 43       3\n",
      " 269      3\n",
      " 58       3\n",
      " 633      2\n",
      " 167      2\n",
      " 280      2\n",
      " 510      2\n",
      " 90       2\n",
      " 83       1\n",
      " 625      1\n",
      " 376      1\n",
      " 449      1\n",
      " 498      1\n",
      " 588      1\n",
      "dtype: int64\n"
     ]
    }
   ],
   "source": [
    "import operator\n",
    "\n",
    "# A dictionary mapping family name to ID\n",
    "family_id_mapping = {}\n",
    "\n",
    "# A function to get the ID for a particular row\n",
    "def get_family_id(row):\n",
    "    # Find the last name by splitting on a comma\n",
    "    last_name = row[\"Name\"].split(\",\")[0]\n",
    "    # Create the family ID\n",
    "    family_id = \"{0}{1}\".format(last_name, row[\"FamilySize\"])\n",
    "    # Look up the ID in the mapping\n",
    "    if family_id not in family_id_mapping:\n",
    "        if len(family_id_mapping) == 0:\n",
    "            current_id = 1\n",
    "        else:\n",
    "            # Get the maximum ID from the mapping, and add 1 to it if we don't have an ID\n",
    "            current_id = (max(family_id_mapping.items(), key=operator.itemgetter(1))[1] + 1)\n",
    "        family_id_mapping[family_id] = current_id\n",
    "    return family_id_mapping[family_id]\n",
    "\n",
    "# Get the family IDs with the apply method\n",
    "family_ids = titanic.apply(get_family_id, axis=1)\n",
    "\n",
    "# There are a lot of family IDs, so we'll compress all of the families with less than three members into one code\n",
    "family_ids[titanic[\"FamilySize\"] < 3] = -1\n",
    "\n",
    "# Print the count of each unique ID\n",
    "print(pd.value_counts(family_ids))\n",
    "\n",
    "titanic[\"FamilyId\"] = family_ids"
   ]
  },
  {
   "cell_type": "code",
   "execution_count": 51,
   "metadata": {},
   "outputs": [
    {
     "data": {
      "image/png": "[encoded data removed]",
      "text/plain": [
       "<matplotlib.figure.Figure at 0x192210c1048>"
      ]
     },
     "metadata": {},
     "output_type": "display_data"
    },
    {
     "name": "stdout",
     "output_type": "stream",
     "text": [
      "0.817059483726\n"
     ]
    }
   ],
   "source": [
    "import numpy as np\n",
    "from sklearn.feature_selection import SelectKBest, f_classif\n",
    "\n",
    "predictors = [\"Pclass\", \"Sex\", \"Age\", \"SibSp\", \"Parch\", \"Fare\", \"Embarked\", \"FamilySize\", \"Title\", \"FamilyId\", \"NameLength\"]\n",
    "\n",
    "# Perform feature selection\n",
    "selector = SelectKBest(f_classif, k=5)\n",
    "selector.fit(titanic[predictors], titanic[\"Survived\"])\n",
    "\n",
    "# Get the raw p-values for each feature, and transform them from p-values into scores\n",
    "scores = -np.log10(selector.pvalues_)\n",
    "\n",
    "# Plot the scores  \n",
    "# Do you see how \"Pclass\", \"Sex\", \"Title\", and \"Fare\" are the best features?\n",
    "plt.bar(range(len(predictors)), scores)\n",
    "plt.xticks(range(len(predictors)), predictors, rotation='vertical')\n",
    "plt.show()\n",
    "\n",
    "# Pick only the four best features\n",
    "predictors = [\"Pclass\", \"Sex\", \"Fare\", \"Title\"]\n",
    "\n",
    "alg = RandomForestClassifier(random_state=1, n_estimators=50, min_samples_split=8, min_samples_leaf=4)\n",
    "# Compute the accuracy score for all the cross-validation folds; this is much simpler than what we did before\n",
    "scores = cross_validation.cross_val_score(alg, titanic[predictors], titanic[\"Survived\"], cv=3)\n",
    "\n",
    "# Take the mean of the scores (because we have one for each fold)\n",
    "print(scores.mean())"
   ]
  },
  {
   "cell_type": "code",
   "execution_count": 67,
   "metadata": {},
   "outputs": [
    {
     "name": "stdout",
     "output_type": "stream",
     "text": [
      "0.8215488215488216\n"
     ]
    }
   ],
   "source": [
    "from sklearn.ensemble import GradientBoostingClassifier\n",
    "import numpy as np\n",
    "\n",
    "# The algorithms we want to ensemble\n",
    "# We're using the more linear predictors for the logistic regression, and everything with the gradient boosting classifier\n",
    "algorithms = [\n",
    "    [GradientBoostingClassifier(random_state=1, n_estimators=50, max_depth=3), [\"Pclass\", \"Sex\", \"Age\", \"Fare\", \"Embarked\", \"FamilySize\", \"Title\", \"FamilyId\"]],\n",
    "    [LogisticRegression(random_state=1), [\"Pclass\", \"Sex\", \"Fare\", \"FamilySize\", \"Title\", \"Age\", \"Embarked\"]],\n",
    "    [RandomForestClassifier(random_state=1, n_estimators=50, min_samples_split=5, min_samples_leaf=2),[\"Pclass\", \"Sex\", \"Fare\", \"Title\"]]\n",
    "]\n",
    "\n",
    "# Initialize the cross-validation folds\n",
    "kf = KFold(titanic.shape[0], n_folds=3, random_state=1)\n",
    "\n",
    "predictions = []\n",
    "for train, test in kf:\n",
    "    train_target = titanic[\"Survived\"].iloc[train]\n",
    "    full_test_predictions = []\n",
    "    # Make predictions for each algorithm on each fold\n",
    "    for alg, predictors in algorithms:\n",
    "        # Fit the algorithm on the training data\n",
    "        alg.fit(titanic[predictors].iloc[train,:], train_target)\n",
    "        # Select and predict on the test fold \n",
    "        # We need to use .astype(float) to convert the dataframe to all floats and avoid an sklearn error\n",
    "        test_predictions = alg.predict_proba(titanic[predictors].iloc[test,:].astype(float))[:,1]\n",
    "        full_test_predictions.append(test_predictions)\n",
    "    # Use a simple ensembling scheme&#8212;just average the predictions to get the final classification\n",
    "    test_predictions = (full_test_predictions[0] + full_test_predictions[1]) / 2\n",
    "    # Any value over .5 is assumed to be a 1 prediction, and below .5 is a 0 prediction\n",
    "    test_predictions[test_predictions <= .5] = 0\n",
    "    test_predictions[test_predictions > .5] = 1\n",
    "    predictions.append(test_predictions)\n",
    "\n",
    "# Put all the predictions together into one array\n",
    "predictions = np.concatenate(predictions, axis=0)\n",
    "\n",
    "# Compute accuracy by comparing to the training data\n",
    "accuracy = len(predictions[predictions == titanic[\"Survived\"]]) / len(predictions)\n",
    "print(accuracy)"
   ]
  },
  {
   "cell_type": "code",
   "execution_count": 68,
   "metadata": {},
   "outputs": [
    {
     "name": "stdout",
     "output_type": "stream",
     "text": [
      "1     240\n",
      "2      79\n",
      "3      72\n",
      "4      21\n",
      "7       2\n",
      "6       2\n",
      "10      1\n",
      "5       1\n",
      "Name: Title, dtype: int64\n",
      "{'Braund1': 1, 'Cumings1': 2, 'Heikkinen0': 3, 'Futrelle1': 4, 'Allen0': 5, 'Moran0': 6, 'McCarthy0': 7, 'Palsson4': 8, 'Johnson2': 9, 'Nasser1': 10, 'Sandstrom2': 11, 'Bonnell0': 12, 'Saundercock0': 13, 'Andersson6': 14, 'Vestrom0': 15, 'Hewlett0': 16, 'Rice5': 17, 'Williams0': 18, 'Vander Planke1': 19, 'Masselmani0': 20, 'Fynney0': 21, 'Beesley0': 22, 'McGowan0': 23, 'Sloper0': 24, 'Asplund6': 25, 'Emir0': 26, 'Fortune5': 27, \"O'Dwyer0\": 28, 'Todoroff0': 29, 'Uruchurtu0': 30, 'Spencer1': 31, 'Glynn0': 32, 'Wheadon0': 33, 'Meyer1': 34, 'Holverson1': 35, 'Mamee0': 36, 'Cann0': 37, 'Vander Planke2': 38, 'Nicola-Yarred1': 39, 'Ahlin1': 40, 'Turpin1': 41, 'Kraeff0': 42, 'Laroche3': 43, 'Devaney0': 44, 'Rogers0': 45, 'Lennon1': 46, \"O'Driscoll0\": 47, 'Samaan2': 48, 'Arnold-Franchi1': 49, 'Panula5': 50, 'Nosworthy0': 51, 'Harper1': 52, 'Faunthorpe1': 53, 'Ostby1': 54, 'Woolner0': 55, 'Rugg0': 56, 'Novel0': 57, 'West3': 58, 'Goodwin7': 59, 'Sirayanian0': 60, 'Icard0': 61, 'Harris1': 62, 'Skoog5': 63, 'Stewart0': 64, 'Moubarek2': 65, 'Nye0': 66, 'Crease0': 67, 'Kink2': 68, 'Jenkin0': 69, 'Hood0': 70, 'Chronopoulos1': 71, 'Bing0': 72, 'Moen0': 73, 'Staneff0': 74, 'Moutal0': 75, 'Caldwell2': 76, 'Dowdell0': 77, 'Waelens0': 78, 'Sheerlinck0': 79, 'McDermott0': 80, 'Carrau0': 81, 'Ilett0': 82, 'Backstrom3': 83, 'Ford4': 84, 'Slocovski0': 85, 'Celotti0': 86, 'Christmann0': 87, 'Andreasson0': 88, 'Chaffee1': 89, 'Dean3': 90, 'Coxon0': 91, 'Shorney0': 92, 'Goldschmidt0': 93, 'Greenfield1': 94, 'Doling1': 95, 'Kantor1': 96, 'Petranec0': 97, 'Petroff0': 98, 'White1': 99, 'Johansson0': 100, 'Gustafsson2': 101, 'Mionoff0': 102, 'Salkjelsvik0': 103, 'Moss0': 104, 'Rekic0': 105, 'Moran1': 106, 'Porter0': 107, 'Zabour1': 108, 'Barton0': 109, 'Jussila1': 110, 'Attalah0': 111, 'Pekoniemi0': 112, 'Connors0': 113, 'Baxter1': 114, 'Hickman2': 115, 'Moore0': 116, 'Webber0': 117, 'McMahon0': 118, 'Madsen0': 119, 'Peter2': 120, 'Ekstrom0': 121, 'Drazenoic0': 122, 'Coelho0': 123, 'Robins1': 124, 'Weisz1': 125, 'Sobey0': 126, 'Richard0': 127, 'Newsom2': 128, 'Osen0': 129, 'Giglio0': 130, 'Boulos2': 131, 'Nysten0': 132, 'Hakkarainen1': 133, 'Burke0': 134, 'Andrew0': 135, 'Nicholls2': 136, 'Andersson0': 137, 'Navratil2': 138, 'Byles0': 139, 'Bateman0': 140, 'Pears1': 141, 'Meo0': 142, 'van Billiard2': 143, 'Olsen0': 144, 'Williams1': 145, 'Gilnagh0': 146, 'Corn0': 147, 'Smiljanic0': 148, 'Sage10': 149, 'Cribb1': 150, 'Watt0': 151, 'Bengtsson0': 152, 'Calic0': 153, 'Goldsmith2': 154, 'Chibnall1': 155, 'Baumann0': 156, 'Ling0': 157, 'Van der hoef0': 158, 'Sivola0': 159, 'Smith0': 160, 'Klasen2': 161, 'Lefebre4': 162, 'Isham0': 163, 'Hale0': 164, 'Leonard0': 165, 'Pernot0': 166, 'Becker3': 167, 'Kink-Heilmann2': 168, 'Rood0': 169, \"O'Brien1\": 170, 'Romaine0': 171, 'Bourke2': 172, 'Turcin0': 173, 'Pinsky0': 174, 'Carbines0': 175, 'Andersen-Jensen1': 176, 'Brown0': 177, 'Lurette0': 178, 'Mernagh0': 179, 'Olsen1': 180, 'Madigan0': 181, 'Yrois0': 182, 'Vande Walle0': 183, 'Johanson0': 184, 'Youseff0': 185, 'Cohen0': 186, 'Strom1': 187, 'Backstrom1': 188, 'Albimona0': 189, 'Carr0': 190, 'Blank0': 191, 'Ali0': 192, 'Cameron0': 193, 'Perkin0': 194, 'Givard0': 195, 'Kiernan1': 196, 'Newell1': 197, 'Honkanen0': 198, 'Jacobsohn1': 199, 'Bazzani0': 200, 'Harris0': 201, 'Sunderland0': 202, 'Bracken0': 203, 'Green0': 204, 'Nenkoff0': 205, 'Hoyt1': 206, 'Berglund0': 207, 'Mellors0': 208, 'Lovell0': 209, 'Fahlstrom0': 210, 'Larsson0': 211, 'Sjostedt0': 212, 'Leyson0': 213, 'Harknett0': 214, 'Hold1': 215, 'Collyer2': 216, 'Pengelly0': 217, 'Hunt0': 218, 'Murphy1': 219, 'Coleridge0': 220, 'Maenpaa0': 221, 'Minahan2': 222, 'Lindahl0': 223, 'Hamalainen2': 224, 'Beckwith2': 225, 'Carter1': 226, 'Reed0': 227, 'Strom2': 228, 'Stead0': 229, 'Lobb1': 230, 'Rosblom2': 231, 'Touma2': 232, 'Thorne0': 233, 'Cherry0': 234, 'Ward0': 235, 'Parrish1': 236, 'Taussig2': 237, 'Harrison0': 238, 'Henry0': 239, 'Reeves0': 240, 'Persson1': 241, 'Graham1': 242, 'Bissette0': 243, 'Cairns0': 244, 'Tornquist0': 245, 'Mellinger1': 246, 'Natsch1': 247, 'Healy0': 248, 'Andrews1': 249, 'Lindblom0': 250, 'Parkes0': 251, 'Abbott2': 252, 'Duane0': 253, 'Olsson0': 254, 'de Pelsmaeker0': 255, 'Dorking0': 256, 'Stankovic0': 257, 'de Mulder0': 258, 'Naidenoff0': 259, 'Hosono0': 260, 'Connolly0': 261, 'Barber0': 262, 'Bishop1': 263, 'Levy0': 264, 'Haas0': 265, 'Mineff0': 266, 'Lewy0': 267, 'Hanna0': 268, 'Allison3': 269, 'Saalfeld0': 270, 'Kelly0': 271, 'McCoy2': 272, 'Johnson0': 273, 'Keane0': 274, 'Fleming0': 275, 'Penasco y Castellana1': 276, 'Abelson1': 277, 'Francatelli0': 278, 'Hays0': 279, 'Ryerson4': 280, 'Lahtinen2': 281, 'Hendekovic0': 282, 'Hart2': 283, 'Nilsson0': 284, 'Moraweck0': 285, 'Wick2': 286, 'Spedden2': 287, 'Dennis0': 288, 'Danoff0': 289, 'Slayter0': 290, 'Young0': 291, 'Nysveen0': 292, 'Ball0': 293, 'Hippach1': 294, 'Partner0': 295, 'Frauenthal1': 296, 'Denkoff0': 297, 'Burns0': 298, 'Dahl0': 299, 'Blackwell0': 300, 'Collander0': 301, 'Sedgwick0': 302, 'Fox0': 303, 'Davison1': 304, 'Coutts2': 305, 'Dimic0': 306, 'Odahl0': 307, 'Williams-Lambert0': 308, 'Elias2': 309, 'Yousif0': 310, 'Vanden Steen0': 311, 'Bowerman1': 312, 'Funk0': 313, 'McGovern0': 314, 'Mockler0': 315, 'del Carlo1': 316, 'Barbara1': 317, 'Asim0': 318, 'Adahl0': 319, 'Warren1': 320, 'Moussa0': 321, 'Jermyn0': 322, 'Aubart0': 323, 'Harder1': 324, 'Wiklund1': 325, 'Beavan0': 326, 'Ringhini0': 327, 'Landergren0': 328, 'Widener2': 329, 'Betros0': 330, 'Gustafsson0': 331, 'Bidois0': 332, 'Nakid2': 333, 'Tikkanen0': 334, 'Plotcharsky0': 335, 'Davies0': 336, 'Buss0': 337, 'Sadlier0': 338, 'Lehmann0': 339, 'Carter3': 340, 'Jansson0': 341, 'McKane0': 342, 'Pain0': 343, 'Trout0': 344, 'Niskanen0': 345, 'Adams0': 346, 'Oreskovic0': 347, 'Gale1': 348, 'Widegren0': 349, 'Richards2': 350, 'Birkeland0': 351, 'Sdycoff0': 352, 'Hart0': 353, 'Minahan1': 354, 'Cunningham0': 355, 'Sundman0': 356, 'Meek0': 357, 'Drew2': 358, 'Silven2': 359, 'Matthews0': 360, 'Van Impe2': 361, 'Gheorgheff0': 362, 'Charters0': 363, 'Zimmerman0': 364, 'Danbom2': 365, 'Wiseman0': 366, 'Clarke1': 367, 'Phillips0': 368, 'Flynn0': 369, 'Pickard0': 370, 'Bjornstrom-Steffansson0': 371, 'Thorneycroft1': 372, 'Louch1': 373, 'Kallio0': 374, 'Silvey1': 375, 'Richards5': 376, 'Kvillner0': 377, 'Hampe0': 378, 'Petterson1': 379, 'Reynaldo0': 380, 'Johannesen-Bratthammer0': 381, 'Dodge2': 382, 'Seward0': 383, 'Baclini3': 384, 'Peuchen0': 385, 'Hagland1': 386, 'Foreman0': 387, 'Goldenberg1': 388, 'Peduzzi0': 389, 'Jalsevac0': 390, 'Millet0': 391, 'Kenyon1': 392, 'Toomey0': 393, \"O'Connor0\": 394, 'Anderson0': 395, 'Morley0': 396, 'Gee0': 397, 'Milling0': 398, 'Maisner0': 399, 'Goncalves0': 400, 'Campbell0': 401, 'Smart0': 402, 'Scanlan0': 403, 'Keefe0': 404, 'Cacic0': 405, 'Jerwan0': 406, 'Strandberg0': 407, 'Clifford0': 408, 'Renouf1': 409, 'Karlsson0': 410, 'Hirvonen1': 411, 'Frost0': 412, 'Rouse0': 413, 'Turkula0': 414, 'Kent0': 415, 'Somerton0': 416, 'Windelov0': 417, 'Molson0': 418, 'Artagaveytia0': 419, 'Stanley0': 420, 'Yousseff0': 421, 'Eustis1': 422, 'Shellard0': 423, 'Svensson0': 424, 'Canavan0': 425, \"O'Sullivan0\": 426, 'Laitinen0': 427, 'Maioni0': 428, 'Quick2': 429, 'Bradley0': 430, 'Lang0': 431, 'Daly0': 432, 'McGough0': 433, 'Rothschild1': 434, 'Coleff0': 435, 'Walker0': 436, 'Lemore0': 437, 'Ryan0': 438, 'Angle1': 439, 'Pavlovic0': 440, 'Perreault0': 441, 'Vovk0': 442, 'Lahoud0': 443, 'Kassem0': 444, 'Farrell0': 445, 'Ridsdale0': 446, 'Farthing0': 447, 'Salonen0': 448, 'Hocking3': 449, 'Toufik0': 450, 'Butt0': 451, 'LeRoy0': 452, 'Risien0': 453, 'Frolicher2': 454, 'Crosby2': 455, 'Beane1': 456, 'Douglas1': 457, 'Nicholson0': 458, 'Padro y Manent0': 459, 'Davies2': 460, 'Thayer2': 461, 'Sharp0': 462, \"O'Brien0\": 463, 'Leeni0': 464, 'Ohman0': 465, 'Wright0': 466, 'Duff Gordon1': 467, 'Robbins0': 468, 'de Messemaeker1': 469, 'Morrow0': 470, 'Sivic0': 471, 'Norman0': 472, 'Simmons0': 473, 'Meanwell0': 474, 'Stoytcheff0': 475, 'Doharr0': 476, 'Jonsson0': 477, 'Appleton2': 478, 'Rush0': 479, 'Patchett0': 480, 'Garside0': 481, 'Caram1': 482, 'Jussila0': 483, 'Christy2': 484, 'Downton0': 485, 'Ross0': 486, 'Paulner0': 487, 'Jarvis0': 488, 'Frolicher-Stehli2': 489, 'Gilinski0': 490, 'Murdlin0': 491, 'Rintamaki0': 492, 'Stephenson1': 493, 'Elsbury0': 494, 'Chapman1': 495, 'Leitch0': 496, 'Boulos0': 497, 'Jacobsohn3': 498, 'Slabenoff0': 499, 'Harrington0': 500, 'Torber0': 501, 'Homer0': 502, 'Lindell1': 503, 'Karaic0': 504, 'Daniel0': 505, 'Shutes0': 506, 'Jardin0': 507, 'Horgan0': 508, 'Brocklebank0': 509, 'Herman3': 510, 'Gavey0': 511, 'Yasbeck1': 512, 'Kimball1': 513, 'Hansen0': 514, 'Bowen0': 515, 'Sutton0': 516, 'Kirkland0': 517, 'Longley0': 518, 'Bostandyeff0': 519, \"O'Connell0\": 520, 'Barkworth0': 521, 'Lundahl0': 522, 'Stahelin-Maeglin0': 523, 'Parr0': 524, 'Davis0': 525, 'Leinonen0': 526, 'Jensen0': 527, 'Sagesser0': 528, 'Foo0': 529, 'Cor0': 530, 'Simonius-Blumer0': 531, 'Willey0': 532, 'Mitkoff0': 533, 'Kalvik0': 534, \"O'Leary0\": 535, 'Hegarty0': 536, 'Radeff0': 537, 'Eitemiller0': 538, 'Newell2': 539, 'Frauenthal2': 540, 'Badt0': 541, 'Colley0': 542, 'Lindqvist1': 543, 'Butler0': 544, 'Rommetvedt0': 545, 'Cook0': 546, 'Taylor1': 547, 'Brown2': 548, 'Davidson1': 549, 'Mitchell0': 550, 'Wilhelms0': 551, 'Watson0': 552, 'Edvardsson0': 553, 'Sawyer0': 554, 'Turja0': 555, 'Cardeza1': 556, 'Peters0': 557, 'Hassab0': 558, 'Olsvigen0': 559, 'Dakic0': 560, 'Fischer0': 561, 'Madill1': 562, 'Dick1': 563, 'Karun1': 564, 'Lam0': 565, 'Saad0': 566, 'Weir0': 567, 'Chapman0': 568, 'Mullens0': 569, 'Humblen0': 570, 'Astor1': 571, 'Silverthorne0': 572, 'Gallagher0': 573, 'Hansen1': 574, 'Calderhead0': 575, 'Cleaver0': 576, 'Mayne0': 577, 'Klaber0': 578, 'Greenberg0': 579, 'Soholt0': 580, 'Endres0': 581, 'Troutt0': 582, 'McEvoy0': 583, 'Jensen1': 584, 'Gillespie0': 585, 'Hodges0': 586, 'Chambers1': 587, 'Renouf3': 588, 'Mannion0': 589, 'Bryhl1': 590, 'Ilmakangas1': 591, 'Hassan0': 592, 'Knight0': 593, 'Berriman0': 594, 'Troupiansky0': 595, 'Lesurer0': 596, 'Ivanoff0': 597, 'Nankoff0': 598, 'Hawksford0': 599, 'Cavendish1': 600, 'McNamee1': 601, 'Stranden0': 602, 'Sinkkonen0': 603, 'Marvin1': 604, 'Connaghton0': 605, 'Wells2': 606, 'Moor1': 607, 'Vande Velde0': 608, 'Jonkoff0': 609, 'Carlsson0': 610, 'Bailey0': 611, 'Theobald0': 612, 'Rothes0': 613, 'Garfirth0': 614, 'Nirva0': 615, 'Barah0': 616, 'Eklund0': 617, 'Hogeboom1': 618, 'Brewe0': 619, 'Mangan0': 620, 'Gronnestad0': 621, 'Lievens0': 622, 'Mack0': 623, 'Elias0': 624, 'Hocking4': 625, 'Myhrman0': 626, 'Tobin0': 627, 'Emanuel0': 628, 'Kilgannon0': 629, 'Robert1': 630, 'Ayoub0': 631, 'Long0': 632, 'Johnston3': 633, 'Harmer0': 634, 'Sjoblom0': 635, 'Guggenheim0': 636, 'Gaskell0': 637, 'Hoyt0': 638, 'Dantcheff0': 639, 'Otter0': 640, 'Leader0': 641, 'Osman0': 642, 'Ibrahim Shawah0': 643, 'Ponesell0': 644, 'Thomas1': 645, 'Hedman0': 646, 'Andrews0': 647, 'Pettersson0': 648, 'Meyer0': 649, 'Alexander0': 650, 'Lester0': 651, 'Slemen0': 652, 'Tomlin0': 653, 'Fry0': 654, 'Heininen0': 655, 'Mallet2': 656, 'Holm0': 657, 'Hays2': 658, 'Lulic0': 659, 'Reuchlin0': 660, 'McCormack0': 661, 'Stone0': 662, 'Augustsson0': 663, 'Allum0': 664, 'Compton2': 665, 'Pasic0': 666, 'Sirota0': 667, 'Chip0': 668, 'Marechal0': 669, 'Alhomaki0': 670, 'Mudd0': 671, 'Serepeca0': 672, 'Lemberopolous0': 673, 'Culumovic0': 674, 'Abbing0': 675, 'Markoff0': 676, 'Lines1': 677, 'Aks1': 678, 'Razi0': 679, 'Hansen2': 680, 'Giles1': 681, 'Swift0': 682, 'Gill0': 683, 'Bystrom0': 684, 'Duran y More1': 685, 'Roebling0': 686, 'van Melkebeke0': 687, 'Balkic0': 688, 'Vander Cruyssen0': 689, 'Najib0': 690, 'Laleff0': 691, 'Potter1': 692, 'Shelley1': 693, 'Markun0': 694, 'Dahlberg0': 695, 'Banfield0': 696, 'Sutehall0': 697, 'Montvila0': 698, 'Graham0': 699, 'Behr0': 700, 'Dooley0': 701, 'Wilkes1': 702, 'Myles0': 703, 'Wirz0': 704, 'Hirvonen2': 705, 'Abrahim0': 706, 'Ilieff0': 707, 'Jones0': 708, 'Snyder1': 709, 'Howard1': 710, 'Assaf0': 711, 'Assaf Khalil0': 712, 'Flegenheim0': 713, 'Daher0': 714, 'Brady0': 715, 'Jefferys2': 716, 'Mock1': 717, 'Katavelas0': 718, 'Roth0': 719, 'Sap0': 720, 'Hee0': 721, 'Franklin0': 722, 'Goldsmith0': 723, 'Corbett0': 724, 'Peltomaki0': 725, 'Chevre0': 726, 'Shaughnessy0': 727, 'Bucknell0': 728, 'Smith1': 729, 'Pulbaum0': 730, 'Mangiavacchi0': 731, 'Abelseth0': 732, 'Chaudanson0': 733, 'Dika0': 734, 'McCrae0': 735, 'Bjorklund0': 736, 'Corey0': 737, 'Tucker0': 738, 'Mulvihill0': 739, 'Minkoff0': 740, 'Nieminen0': 741, 'Ovies y Rodriguez0': 742, 'Geiger0': 743, 'Keeping0': 744, 'Miles0': 745, 'Cornell2': 746, 'Aldworth0': 747, 'Doyle0': 748, 'Straus1': 749, 'Case0': 750, 'Demetri0': 751, 'Lamb0': 752, 'Khalil1': 753, 'Barry0': 754, 'Badman0': 755, \"O'Donoghue0\": 756, 'Dyker1': 757, 'Pedersen0': 758, 'Davidson3': 759, 'Guest0': 760, 'Birnbaum0': 761, 'Tenglin0': 762, 'Makinen0': 763, 'Braf0': 764, 'Nancarrow0': 765, 'Stengel1': 766, 'Foley0': 767, 'Johansson Palmquist0': 768, 'Thomas2': 769, 'Holthen0': 770, 'Buckley0': 771, 'Willer0': 772, 'Swane0': 773, 'Stanton0': 774, 'Shine0': 775, 'Evans0': 776, 'Thomas0': 777, 'Beattie0': 778, 'Schabert1': 779, 'Carver0': 780, 'Kennedy0': 781, 'Brobeck0': 782, 'Bowenur0': 783, 'Petersen0': 784, 'Spinner0': 785, 'Gracie0': 786, 'Dintcheff0': 787, 'Zakarian0': 788, 'Schmidt0': 789, 'Drapkin0': 790, 'Daniels0': 791, 'Beauchamp0': 792, 'Lindeberg-Lind0': 793, 'Vander Planke3': 794, 'Hilliard0': 795, 'Crafton0': 796, 'Earnshaw1': 797, 'Matinoff0': 798, 'Storey0': 799, 'Duquemin0': 800, 'Bird0': 801, 'Lundin0': 802, 'Borebank0': 803, 'Peacock2': 804, 'Smyth0': 805, 'Pearce0': 806, 'Peruschitz0': 807, 'Brandeis0': 808, 'Cassebeer0': 809, 'Hellstrom0': 810, 'Lithman0': 811, 'Torfa0': 812, 'Sincock0': 813, 'McCrie0': 814, 'Lane0': 815, 'Douglas2': 816, 'Maybery0': 817, 'Phillips1': 818, 'Veal0': 819, 'Salomon0': 820, 'Lingane0': 821, 'Baimbrigge0': 822, 'Rasmussen0': 823, 'Murphy0': 824, 'Omont0': 825, 'Collett0': 826, 'Rosenbaum0': 827, 'Delalic0': 828, 'Andersen0': 829, 'Finoli0': 830, 'Deacon0': 831, 'Head0': 832, 'Mahon0': 833, 'Thomson0': 834, 'Reynolds0': 835, 'Candee0': 836, 'Asplund0': 837, 'McNeill0': 838, 'Everett0': 839, 'Hocking0': 840, 'Sweet0': 841, 'Willard0': 842, 'Linehan0': 843, 'Vendel0': 844, 'Baccos0': 845, 'Hiltunen2': 846, 'Lindstrom0': 847, 'Hyman0': 848, 'Karnes0': 849, 'Abrahamsson0': 850, 'Clark1': 851, 'Salander0': 852, 'Wenzel0': 853, 'MacKay0': 854, 'Niklasson0': 855, 'Bentham0': 856, 'Midtsjo0': 857, 'Portaluppi0': 858, 'Lyntakoff0': 859, 'Chisholm0': 860, 'Warren0': 861, 'Howard0': 862, 'Pokrnic0': 863, 'McCaffry0': 864, 'Saade0': 865, 'Parker0': 866, 'Ware1': 867, 'Oxenham0': 868, 'Mardirosian0': 869, 'Ford0': 870, 'Rheims0': 871, 'Nasr0': 872, 'Wittevrongel0': 873, 'Angheloff0': 874, 'Loring0': 875, 'Malachard0': 876, 'Vartanian0': 877, 'Sadowitz0': 878, 'White0': 879, 'Hagardon0': 880, 'Krekorian0': 881, 'Nesson0': 882, 'Rowe0': 883, 'Kreuchen0': 884, 'Assam0': 885, 'Rosenshine0': 886, 'Enander0': 887, 'Dulles0': 888, 'Maguire0': 889, 'de Brito0': 890, 'Denbury0': 891, 'Fillbrook0': 892, 'Lundstrom0': 893, 'Botsford0': 894, 'Whabee0': 895, 'Giles0': 896, 'Walcroft0': 897, 'Stokes0': 898, 'Dibden0': 899, 'Julian0': 900, 'Lockyer0': 901, \"O'Keefe0\": 902, 'Ware0': 903, 'Strilic0': 904, 'Riihivouri0': 905, 'Gibson1': 906, 'Pallas y Castello0': 907, 'Wilson0': 908, 'Ismay0': 909, 'Harbeck0': 910, 'Cotterill0': 911, 'Hipkins0': 912, 'Wheeler0': 913, 'Aronsson0': 914, 'Ashby0': 915, 'Payne0': 916, 'Gilbert0': 917, 'Kink-Heilmann4': 918, 'Colbert0': 919, 'Larsson-Rondberg0': 920, 'Conlon0': 921, 'Nourney0': 922, 'Riordan0': 923, 'Naughton0': 924, 'Henriksson0': 925, 'Spector0': 926, 'Oliva y Ocana0': 927, 'Saether0': 928}\n"
     ]
    }
   ],
   "source": [
    "# First, we'll add titles to the test set\n",
    "titles = titanic_test[\"Name\"].apply(get_title)\n",
    "# We're adding the Dona title to the mapping, because it's in the test set, but not the training set\n",
    "title_mapping = {\"Mr\": 1, \"Miss\": 2, \"Mrs\": 3, \"Master\": 4, \"Dr\": 5, \"Rev\": 6, \"Major\": 7, \"Col\": 7, \"Mlle\": 8, \"Mme\": 8, \"Don\": 9, \"Lady\": 10, \"Countess\": 10, \"Jonkheer\": 10, \"Sir\": 9, \"Capt\": 7, \"Ms\": 2, \"Dona\": 10}\n",
    "for k,v in title_mapping.items():\n",
    "    titles[titles == k] = v\n",
    "titanic_test[\"Title\"] = titles\n",
    "# Check the counts of each unique title\n",
    "print(pd.value_counts(titanic_test[\"Title\"]))\n",
    "\n",
    "# Now we add the family size column\n",
    "titanic_test[\"FamilySize\"] = titanic_test[\"SibSp\"] + titanic_test[\"Parch\"]\n",
    "\n",
    "# Now we can add family IDs\n",
    "# We'll use the same IDs we used earlier\n",
    "print(family_id_mapping)\n",
    "\n",
    "family_ids = titanic_test.apply(get_family_id, axis=1)\n",
    "family_ids[titanic_test[\"FamilySize\"] < 3] = -1\n",
    "titanic_test[\"FamilyId\"] = family_ids\n",
    "titanic_test['NameLength'] = titanic_test['Name'].apply(lambda x: len(x))"
   ]
  },
  {
   "cell_type": "code",
   "execution_count": 69,
   "metadata": {},
   "outputs": [],
   "source": [
    "predictors = [\"Pclass\", \"Sex\", \"Age\", \"Fare\", \"Embarked\", \"FamilySize\", \"Title\", \"FamilyId\"]\n",
    "\n",
    "algorithms = [\n",
    "    [GradientBoostingClassifier(random_state=1, n_estimators=25, max_depth=3), predictors],\n",
    "    [LogisticRegression(random_state=1), [\"Pclass\", \"Sex\", \"Fare\", \"FamilySize\", \"Title\", \"Age\", \"Embarked\"]]\n",
    "]\n",
    "\n",
    "full_predictions = []\n",
    "for alg, predictors in algorithms:\n",
    "    # Fit the algorithm using the full training data.\n",
    "    alg.fit(titanic[predictors], titanic[\"Survived\"])\n",
    "    # Predict using the test dataset.  We have to convert all the columns to floats to avoid an error\n",
    "    predictions = alg.predict_proba(titanic_test[predictors].astype(float))[:,1]\n",
    "    full_predictions.append(predictions)\n",
    "\n",
    "# The gradient boosting classifier generates better predictions, so we weight it higher\n",
    "predictions = (full_predictions[0] * 3 + full_predictions[1]) / 4\n",
    "predictions[predictions <= .5] = 0\n",
    "predictions[predictions > .5] = 1\n",
    "predictions = predictions.astype(int)\n",
    "submission = pd.DataFrame({\n",
    "        \"PassengerId\": titanic_test[\"PassengerId\"],\n",
    "        \"Survived\": predictions\n",
    "    })"
   ]
  },
  {
   "cell_type": "code",
   "execution_count": 70,
   "metadata": {
    "collapsed": true
   },
   "outputs": [],
   "source": [
    "submission.to_csv(\"kaggle_titanic_2.csv\", index=False)"
   ]
  },
  {
   "cell_type": "code",
   "execution_count": null,
   "metadata": {
    "collapsed": true
   },
   "outputs": [],
   "source": []
  }
 ],
 "metadata": {
  "kernelspec": {
   "display_name": "Python 3",
   "language": "python",
   "name": "python3"
  },
  "language_info": {
   "codemirror_mode": {
    "name": "ipython",
    "version": 3
   },
   "file_extension": ".py",
   "mimetype": "text/x-python",
   "name": "python",
   "nbconvert_exporter": "python",
   "pygments_lexer": "ipython3",
   "version": "3.6.1"
  }
 },
 "nbformat": 4,
 "nbformat_minor": 2
}
